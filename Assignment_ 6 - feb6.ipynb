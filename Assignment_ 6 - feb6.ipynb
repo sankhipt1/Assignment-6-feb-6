{
 "cells": [
  {
   "cell_type": "code",
   "execution_count": null,
   "id": "d315888c-629b-4ddf-8dcd-24853e50f00d",
   "metadata": {},
   "outputs": [],
   "source": [
    "Q1."
   ]
  },
  {
   "cell_type": "code",
   "execution_count": 2,
   "id": "c2c9db56-93ed-4ac5-b34f-04cc235438a1",
   "metadata": {},
   "outputs": [],
   "source": [
    "def product_of_numbers(lst):\n",
    "    flat_list = []\n",
    "    for item in lst:\n",
    "        if type(item) == list:\n",
    "            flat_list.extend(item)\n",
    "        elif type(item) == tuple or type(item) == float:\n",
    "            flat_list.extend(item)\n",
    "    product = 1\n",
    "    for num in flat_list:\n",
    "        if type(num) == int or type(num) == float:\n",
    "            product *= num\n",
    "    return product\n",
    "\n"
   ]
  },
  {
   "cell_type": "code",
   "execution_count": 4,
   "id": "c8e9b063-0144-49ec-8ac8-24e730264e96",
   "metadata": {},
   "outputs": [
    {
     "name": "stdout",
     "output_type": "stream",
     "text": [
      "4019553365667840\n"
     ]
    }
   ],
   "source": [
    "list1 = [1,2,3,4, [44,55,66, True], False, (34,56,78,89,34), {1,2,3,3,2,1}, {1:34, \"key2\": [55, 67,78,89], 4: (45,22,61,34)}, [56,'data science'], 'Machine Learning']\n",
    "         \n",
    "result = product_of_numbers(list1)\n",
    "         \n",
    "print(result)"
   ]
  },
  {
   "cell_type": "code",
   "execution_count": 5,
   "id": "351db548-5080-4960-b9ec-555c071afb73",
   "metadata": {},
   "outputs": [],
   "source": [
    "def encrypt_message(message):\n",
    "    encrypted_message = \"\"\n",
    "    for char in message:\n",
    "        if char.isalpha():\n",
    "            new_char = chr(219-ord(char))\n",
    "            encrypted_message += new_char\n",
    "        elif char.isspace():\n",
    "            encrypted_message += \"$\"\n",
    "        else:\n",
    "            encrypted_message += char\n",
    "    return encrypted_message"
   ]
  },
  {
   "cell_type": "code",
   "execution_count": 6,
   "id": "3b3b0ad6-d631-49a9-88ed-89c23d1540a6",
   "metadata": {},
   "outputs": [
    {
     "name": "stdout",
     "output_type": "stream",
     "text": [
      "r$dzmg$gl$yvxlnv$z$wzgz$hxrvmgrhg.\n"
     ]
    }
   ],
   "source": [
    "input_sentence = 'i want to become a data scientist.'\n",
    "encrypted_message = encrypt_message(input_sentence)\n",
    "print(encrypted_message)"
   ]
  },
  {
   "cell_type": "code",
   "execution_count": null,
   "id": "45d02390-2bb7-4e50-93d2-25162988fa99",
   "metadata": {},
   "outputs": [],
   "source": []
  }
 ],
 "metadata": {
  "kernelspec": {
   "display_name": "Python 3 (ipykernel)",
   "language": "python",
   "name": "python3"
  },
  "language_info": {
   "codemirror_mode": {
    "name": "ipython",
    "version": 3
   },
   "file_extension": ".py",
   "mimetype": "text/x-python",
   "name": "python",
   "nbconvert_exporter": "python",
   "pygments_lexer": "ipython3",
   "version": "3.10.6"
  }
 },
 "nbformat": 4,
 "nbformat_minor": 5
}
